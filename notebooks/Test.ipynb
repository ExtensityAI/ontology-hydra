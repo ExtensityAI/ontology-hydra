{
 "cells": [
  {
   "cell_type": "code",
   "execution_count": null,
   "metadata": {},
   "outputs": [
    {
     "name": "stdout",
     "output_type": "stream",
     "text": [
      "The tensorboard extension is already loaded. To reload it, use:\n",
      "  %reload_ext tensorboard\n",
      "The dotenv extension is already loaded. To reload it, use:\n",
      "  %reload_ext dotenv\n"
     ]
    }
   ],
   "source": [
    "%load_ext tensorboard\n",
    "%load_ext dotenv\n",
    "\n",
    "%dotenv"
   ]
  },
  {
   "cell_type": "code",
   "execution_count": null,
   "metadata": {},
   "outputs": [],
   "source": [
    "import os\n",
    "import openai\n",
    "from pydantic import BaseModel\n",
    "\n",
    "MODEL = \"gpt-4o-mini\"\n",
    "\n",
    "openai.api_key = os.getenv(\"OPENAI_API_KEY\")"
   ]
  },
  {
   "cell_type": "code",
   "execution_count": 47,
   "metadata": {},
   "outputs": [],
   "source": [
    "x=\"Hospital Management System\""
   ]
  },
  {
   "cell_type": "code",
   "execution_count": 48,
   "metadata": {},
   "outputs": [
    {
     "name": "stdout",
     "output_type": "stream",
     "text": [
      "{\n",
      " \"items\": [\n",
      "  {\n",
      "   \"name\": \"Dr. Sarah Thompson\",\n",
      "   \"description\": \"A hospital administrator with over 15 years of experience in healthcare management. Dr. Thompson specializes in optimizing hospital operations and implementing advanced management systems to improve patient care and administrative efficiency. Her perspective focuses on the integration of technology in hospitals and the potential impact on patient outcomes.\"\n",
      "  },\n",
      "  {\n",
      "   \"name\": \"Mark Rodriguez\",\n",
      "   \"description\": \"An IT specialist who has spent a decade developing software solutions for healthcare facilities. Mark has hands-on experience with Electronic Health Records (EHR) systems, patient management tools, and interoperability issues between different health IT systems. He provides insights into the technical challenges and innovations in hospital management systems.\"\n",
      "  },\n",
      "  {\n",
      "   \"name\": \"Emily Chen\",\n",
      "   \"description\": \"A nurse with a background in patient advocacy and clinical education. Emily has worked on the front lines in various hospital settings and is keenly aware of the challenges faced by nursing staff regarding workflow and communication. Her perspective emphasizes the importance of user-friendly interfaces within hospital management systems to enhance patient care and staff efficiency.\"\n",
      "  },\n",
      "  {\n",
      "   \"name\": \"Dr. Alan Patel\",\n",
      "   \"description\": \"A healthcare policy analyst with expertise in regulatory frameworks and healthcare reform. Dr. Patel studies the implications of hospital management systems on policy and economic factors within the healthcare system. His insights focus on the regulatory hurdles hospitals face when implementing new technologies and how those systems can be aligned with policy initiatives to improve healthcare delivery.\"\n",
      "  }\n",
      " ]\n",
      "}\n"
     ]
    }
   ],
   "source": [
    "generate_personas_prompt = \"Generate a list of {count} distinct but relevant personas for the following topic. Each persona should have a unique perspective, background, or expertise that would contribute meaningfully to a discussion on this topic. The personas should vary in profession, experience, or worldview to ensure diverse viewpoints.\"\n",
    "\n",
    "\n",
    "class Persona(BaseModel):\n",
    "    name: str\n",
    "    description: str\n",
    "\n",
    "class Personas(BaseModel):\n",
    "    items: list[Persona]\n",
    "\n",
    "def generate_personas(topic: str, count: int):\n",
    "    prompt = generate_personas_prompt.format(count=count, topic=topic)\n",
    "\n",
    "    response = openai.beta.chat.completions.parse(\n",
    "        model=MODEL,\n",
    "        messages=[\n",
    "            {\"role\": \"system\", \"content\": prompt},\n",
    "            {\"role\": \"user\", \"content\": x}\n",
    "        ],\n",
    "        response_format=Personas\n",
    "    )\n",
    "\n",
    "    # todo make sure we have the right number of personas, else generate more\n",
    "\n",
    "    return response.choices[0].message.parsed\n",
    "\n",
    "personas = generate_personas(\"The future of work\", 4)\n",
    "\n",
    "print(personas.model_dump_json(indent=True))"
   ]
  },
  {
   "cell_type": "code",
   "execution_count": 49,
   "metadata": {},
   "outputs": [
    {
     "name": "stdout",
     "output_type": "stream",
     "text": [
      "Dr. Sarah Thompson\n",
      " -  What are the key roles within hospital management?\n",
      " -  How are patient records linked to healthcare providers in the system?\n",
      " -  What metrics are used to assess the efficiency of hospital operations?\n",
      "Mark Rodriguez\n",
      " -  What types of entities are involved in patient management?\n",
      " -  How are patient records linked to different healthcare providers?\n",
      " -  What relationships exist between hospital departments and their services?\n",
      "Emily Chen\n",
      " -  What are the key user roles within the hospital management system?\n",
      " -  How is patient data linked to clinical workflows in the system?\n",
      " -  What functionalities enhance communication between nursing staff and other health professionals?\n",
      "Dr. Alan Patel\n",
      " -  What are the core functionalities of a hospital management system?\n",
      " -  How do regulatory requirements influence the adoption of new technologies in hospitals?\n",
      " -  What relationships exist between hospital performance metrics and patient outcomes?\n"
     ]
    }
   ],
   "source": [
    "generate_cqs_prompt = \"You are {name}, {description}. You are part of an interdisciplinary research team that is tasked with creating an ontology. As a first step, you are asked to come up with a set of {count} competency questions related to the topic below. These questions should help define key concepts, relationships, and constraints necessary for building an ontology. Always remember that good competency questions should be clear and unambiguous, relevant to the domain requirements, answerable by the ontology and useful for verification purposes. Keep them EXTREMELY SHORT but INFORMATIVE!\"\n",
    "\n",
    "class CompetencyQuestion(BaseModel):\n",
    "    question: str\n",
    "\n",
    "class CompetencyQuestions(BaseModel):\n",
    "    items: list[CompetencyQuestion]\n",
    "\n",
    "def generate_competency_questions(persona: Persona, topic: str, count: int):\n",
    "    prompt = generate_cqs_prompt.format(count=count, name=persona.name, description=persona.description, topic=topic)\n",
    "\n",
    "    response = openai.beta.chat.completions.parse(\n",
    "        model=MODEL,\n",
    "        messages=[\n",
    "            {\"role\": \"system\", \"content\": prompt},\n",
    "            {\"role\": \"user\", \"content\": x}\n",
    "        ],\n",
    "        response_format=CompetencyQuestions\n",
    "    )\n",
    "\n",
    "    # todo make sure we have the right number of questions, else generate more\n",
    "\n",
    "    return response.choices[0].message.parsed\n",
    "\n",
    "cqs_per_persona = dict()\n",
    "\n",
    "for persona in personas.items:\n",
    "    print(persona.name)\n",
    "\n",
    "    cqs = generate_competency_questions(persona, x, 3).items\n",
    "\n",
    "    for q in cqs:\n",
    "        print(\" - \", q.question)\n",
    "\n",
    "    cqs_per_persona[persona.name] = cqs"
   ]
  },
  {
   "cell_type": "markdown",
   "metadata": {},
   "source": [
    "# Thoughts\n",
    "* maybe immediately jumping into CQs is not a good idea, consider evaluating the scope/space of the problem? (simulated discussion?)"
   ]
  },
  {
   "cell_type": "code",
   "execution_count": 51,
   "metadata": {},
   "outputs": [
    {
     "name": "stdout",
     "output_type": "stream",
     "text": [
      "Dr. Sarah Thompson\n",
      " -  What types of entities are involved in patient management? \"\n",
      " |-> \" Consider specifying the types of entities, such as internal and external stakeholders, to clarify the scope.\n",
      " -  How are patient records linked to different healthcare providers? \"\n",
      " |-> \" Refine the question to focus on specific mechanisms or technologies that link patient records.\n",
      " -  What relationships exist between hospital departments and their services? \"\n",
      " |-> \" Clarify which hospital departments you are referring to for better context.\n",
      " -  What are the key user roles within the hospital management system? \"\n",
      " |-> \" Add examples of user roles to provide context and enhance understanding.\n",
      " -  How is patient data linked to clinical workflows in the system? \"\n",
      " |-> \" Emphasize how this linking impacts patient care to improve relevance.\n",
      " -  What functionalities enhance communication between nursing staff and other health professionals? \"\n",
      " |-> \" Consider detailing specific functionalities that improve communication for better clarity.\n",
      " -  What are the core functionalities of a hospital management system? \"\n",
      " |-> \" Break down core functionalities into categories (e.g., administrative, clinical) for better organization.\n",
      " -  How do regulatory requirements influence the adoption of new technologies in hospitals? \"\n",
      " |-> \" Suggest focusing on one or two key regulatory requirements to keep it manageable.\n",
      " -  What relationships exist between hospital performance metrics and patient outcomes? \"\n",
      " |-> \" It may help to specify which performance metrics you are referring to for clearer analysis.\n",
      "Mark Rodriguez\n",
      " -  What are the key roles within hospital management? \"\n",
      " |-> \" Consider specifying the context, like clinical roles versus administrative roles, for clarity.\n",
      " -  How are patient records linked to healthcare providers in the system? \"\n",
      " |-> \" Clarify what type of system (EHR, PMS, etc.) to focus the question further.\n",
      " -  What are the key user roles within the hospital management system? \"\n",
      " |-> \" Ensure it's distinct from Question 0. You might rephrase to cover specific functions of each role.\n",
      " -  What functionalities enhance communication between nursing staff and other health professionals? \"\n",
      " |-> \" Add examples of functionalities for better specificity, like messaging or collaboration tools.\n",
      " -  What are the core functionalities of a hospital management system? \"\n",
      " |-> \" Consider defining 'core' to guide respondents on what you're prioritizing.\n",
      " -  How do regulatory requirements influence the adoption of new technologies in hospitals? \"\n",
      " |-> \" It might be beneficial to mention specific technologies or regulations to narrow the focus.\n",
      " -  What relationships exist between hospital performance metrics and patient outcomes? \"\n",
      " |-> \" Consider breaking down the relationship into specific metrics for more targeted responses.\n",
      "Emily Chen\n",
      " -  What are the key roles within hospital management? \"\n",
      " |-> \" Consider specifying which roles, e.g. administrative, clinical.\n",
      " -  How are patient records linked to different healthcare providers? \"\n",
      " |-> \" This is a duplicate of question 1; combine them for clarity.\n",
      " -  What types of entities are involved in patient management? \"\n",
      " |-> \" Clarify what you mean by 'types of entities'—focus on specific roles like departments or staff.\n",
      " -  What relationships exist between hospital departments and their services? \"\n",
      " |-> \" Include examples of services to provide context for the relationships you’re asking about.\n",
      " -  What are the core functionalities of a hospital management system? \"\n",
      " |-> \" Consider breaking this down into user-friendly features for better relevance to staff.\n",
      " -  How do regulatory requirements influence the adoption of new technologies in hospitals? \"\n",
      " |-> \" Suggest focusing on specific technologies to narrow the scope, enhancing clarity.\n",
      "Dr. Alan Patel\n",
      " -  What are the key roles within hospital management? \"\n",
      " |-> \" Consider specifying what you mean by 'key roles'. Are you referring to administrative roles, clinical roles, or both?\n",
      " -  How are patient records linked to healthcare providers in the system? \"\n",
      " |-> \" Clarify the term 'linked'. Are you asking about data integration, access control, or something else?\n",
      " -  What metrics are used to assess the efficiency of hospital operations? \"\n",
      " |-> \" Include specific metrics examples, such as patient wait times or bed occupancy rates, to provide clearer guidance on the assessment criteria.\n",
      " -  What types of entities are involved in patient management? \"\n",
      " |-> \" Define 'entities'; are you referring to healthcare providers, services, or something broader?\n",
      " -  What relationships exist between hospital departments and their services? \"\n",
      " |-> \" Rephrase to focus on specific types of relationships, such as interdependencies or resource sharing, to increase clarity.\n",
      " -  What are the key user roles within the hospital management system? \"\n",
      " |-> \" Specify the context for 'user roles'; for instance, are these roles related to administrative access, clinical staff, or IT support?\n",
      " -  What functionalities enhance communication between nursing staff and other health professionals? \"\n",
      " |-> \" Consider adding examples of functionalities, such as secure messaging or shared dashboards, to enhance clarity on what you mean by 'enhance communication'.\n"
     ]
    }
   ],
   "source": [
    "# consider re-emphasizing the requirements of competency questions\n",
    "\n",
    "give_feedback_prompt = \"You are {name}, {description}. You have been asked to review the competency questions created by your team members listed below. Please provide constructive feedback BUT ONLY WHERE STRICTLY necessary. Your feedback should be specific, actionable, and focused on improving the clarity, relevance, and usefulness of the questions. Keep it EXTREMELY SHORT such that your colleagues know what you mean.\"\n",
    "\n",
    "class Comment(BaseModel):\n",
    "    question_id: int\n",
    "    comment: str\n",
    "    referenced_question_ids: list[int] | None = None\n",
    "\n",
    "class Feedback(BaseModel):\n",
    "    comments: list[Comment]\n",
    "\n",
    "def collect_feedback(persona: Persona, competency_questions: list[CompetencyQuestion]):\n",
    "    # consider adding information about whose competency question it is\n",
    "\n",
    "    prompt = give_feedback_prompt.format(name=persona.name, description=persona.description)\n",
    "\n",
    "    questions_str = \"\\n\".join([f\"{i}. {cq.question}\" for i, cq in enumerate(competency_questions)])\n",
    "\n",
    "    response = openai.beta.chat.completions.parse(\n",
    "        model=MODEL,\n",
    "        messages=[\n",
    "            {\"role\": \"system\", \"content\": prompt},\n",
    "            {\"role\": \"user\", \"content\": f\"<questions>{questions_str}</questions>\"},\n",
    "            {\"role\": \"user\", \"content\": f\"<topic>{x}</topic>\"}\n",
    "        ],\n",
    "        response_format=Feedback\n",
    "    )\n",
    "\n",
    "    return response.choices[0].message.parsed\n",
    "\n",
    "def get_cqs_except_of(persona: Persona):\n",
    "    return [cq for p, cqs in cqs_per_persona.items() if p != persona.name for cq in cqs]\n",
    "\n",
    "total_feedback = dict()\n",
    "\n",
    "for persona in personas.items:\n",
    "    print(persona.name)\n",
    "    cqs_to_comment_on = get_cqs_except_of(persona)\n",
    "    feedback = collect_feedback(persona, cqs_to_comment_on)\n",
    "\n",
    "    total_feedback[persona.name] = feedback\n",
    "\n",
    "    for comment in feedback.comments:\n",
    "        print(\" - \", cqs_to_comment_on[comment.question_id].question,\"\\\"\")\n",
    "        print(\" |-> \\\"\", comment.comment)\n",
    "\n",
    "\n",
    "\n"
   ]
  },
  {
   "cell_type": "code",
   "execution_count": 46,
   "metadata": {},
   "outputs": [],
   "source": [
    "# todo now, collect feedback per question, and prompt personas with their question and the feedback and let them revise it.\n"
   ]
  }
 ],
 "metadata": {
  "kernelspec": {
   "display_name": ".venv",
   "language": "python",
   "name": "python3"
  },
  "language_info": {
   "codemirror_mode": {
    "name": "ipython",
    "version": 3
   },
   "file_extension": ".py",
   "mimetype": "text/x-python",
   "name": "python",
   "nbconvert_exporter": "python",
   "pygments_lexer": "ipython3",
   "version": "3.12.5"
  }
 },
 "nbformat": 4,
 "nbformat_minor": 2
}
