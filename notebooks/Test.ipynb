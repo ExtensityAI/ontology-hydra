{
 "cells": [
  {
   "cell_type": "code",
   "execution_count": 18,
   "metadata": {},
   "outputs": [
    {
     "name": "stdout",
     "output_type": "stream",
     "text": [
      "The dotenv extension is already loaded. To reload it, use:\n",
      "  %reload_ext dotenv\n"
     ]
    }
   ],
   "source": [
    "%load_ext dotenv\n",
    "%dotenv\n",
    "\n",
    "import os\n",
    "import openai\n",
    "\n",
    "MODEL = \"gpt-4o-mini\"\n",
    "\n",
    "openai.api_key = os.getenv(\"OPENAI_API_KEY\")\n"
   ]
  },
  {
   "cell_type": "code",
   "execution_count": null,
   "metadata": {},
   "outputs": [
    {
     "name": "stdout",
     "output_type": "stream",
     "text": [
      "{\n",
      "  \"chain_of_thought\": \"In the domain of drinks, it's pertinent to categorize aspects relating to types of drinks, ingredients, preparation methods, and variations. This leads to the identification of relevant classes that encapsulate these features.\",\n",
      "  \"classes\": [\n",
      "    {\n",
      "      \"description\": \"Different types of alcoholic beverages, including beer, wine, and spirits.\",\n",
      "      \"name\": \"AlcoholicDrink\"\n",
      "    },\n",
      "    {\n",
      "      \"description\": \"Non-alcoholic beverages such as juices, soda, and water.\",\n",
      "      \"name\": \"NonAlcoholicDrink\"\n",
      "    },\n",
      "    {\n",
      "      \"description\": \"Ingredients used in various drinks such as fruits, herbs, sweeteners, and flavorings.\",\n",
      "      \"name\": \"Ingredient\"\n",
      "    },\n",
      "    {\n",
      "      \"description\": \"Methods and techniques used to prepare drinks, such as brewing, mixing, and steeping.\",\n",
      "      \"name\": \"PreparationMethod\"\n",
      "    },\n",
      "    {\n",
      "      \"description\": \"Variations and styles of drinks, like cocktails, smoothies, and infusions.\",\n",
      "      \"name\": \"DrinkVariation\"\n",
      "    },\n",
      "    {\n",
      "      \"description\": \"Tools and equipment used in the process of making and serving drinks, including shakers, glasses, and bottles.\",\n",
      "      \"name\": \"DrinkEquipment\"\n",
      "    },\n",
      "    {\n",
      "      \"description\": \"Cultural and regional influences on drinks, including traditional recipes and local specialties.\",\n",
      "      \"name\": \"CulturalAspect\"\n",
      "    },\n",
      "    {\n",
      "      \"description\": \"Health-related aspects and nutritional information regarding various drinks.\",\n",
      "      \"name\": \"HealthAspect\"\n",
      "    }\n",
      "  ],\n",
      "  \"finished\": true\n",
      "}\n"
     ]
    }
   ],
   "source": [
    "from pydantic import BaseModel\n",
    "\n",
    "\n",
    "domain = \"Everything related to drinks. How they are created, what's in them, variations, everything.\"\n",
    "\n",
    "class DataProperty(BaseModel):\n",
    "\n",
    "\n",
    "class Class(BaseModel):\n",
    "    description: str\n",
    "    name: str\n",
    "\n",
    "class Classes(BaseModel):\n",
    "    chain_of_thought: str\n",
    "    classes: list[Class]\n",
    "\n",
    "tlc = openai.beta.chat.completions.parse(\n",
    "    model=MODEL,\n",
    "    messages=[\n",
    "        {\n",
    "            \"role\": \"system\",\n",
    "            \"content\": f\"You are an ontology engineer, tasked with creating an ontology for the domain of <domain>{domain}</domain>. First, please provide the names of all classes that should be included in the second-highest level of the ontology, being subclasses of 'Thing'.\",\n",
    "        }\n",
    "    ],\n",
    "    response_format=Classes\n",
    ").choices[0].message.parsed.model_dump_json(indent=2)\n",
    "\n",
    "print(tlc)\n"
   ]
  }
 ],
 "metadata": {
  "kernelspec": {
   "display_name": ".venv",
   "language": "python",
   "name": "python3"
  },
  "language_info": {
   "codemirror_mode": {
    "name": "ipython",
    "version": 3
   },
   "file_extension": ".py",
   "mimetype": "text/x-python",
   "name": "python",
   "nbconvert_exporter": "python",
   "pygments_lexer": "ipython3",
   "version": "3.12.9"
  }
 },
 "nbformat": 4,
 "nbformat_minor": 2
}
